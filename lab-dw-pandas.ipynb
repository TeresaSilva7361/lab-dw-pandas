{
 "cells": [
  {
   "cell_type": "markdown",
   "id": "25d7736c-ba17-4aff-b6bb-66eba20fbf4e",
   "metadata": {},
   "source": [
    "# Lab | Pandas"
   ]
  },
  {
   "cell_type": "markdown",
   "id": "d1973e9e-8be6-4039-b70e-d73ee0d94c99",
   "metadata": {},
   "source": [
    "In this lab, we will be working with the customer data from an insurance company, which can be found in the CSV file located at the following link: https://raw.githubusercontent.com/data-bootcamp-v4/data/main/file1.csv\n",
    "\n",
    "The data includes information such as customer ID, state, gender, education, income, and other variables that can be used to perform various analyses.\n",
    "\n",
    "Throughout the lab, we will be using the pandas library in Python to manipulate and analyze the data. Pandas is a powerful library that provides various data manipulation and analysis tools, including the ability to load and manipulate data from a variety of sources, including CSV files."
   ]
  },
  {
   "cell_type": "markdown",
   "id": "8045146f-f4f7-44d9-8cd9-130d6400c73a",
   "metadata": {},
   "source": [
    "### Data Description\n",
    "\n",
    "- Customer - Customer ID\n",
    "\n",
    "- ST - State where customers live\n",
    "\n",
    "- Gender - Gender of the customer\n",
    "\n",
    "- Education - Background education of customers \n",
    "\n",
    "- Customer Lifetime Value - Customer lifetime value(CLV) is the total revenue the client will derive from their entire relationship with a customer. In other words, is the predicted or calculated value of a customer over their entire duration as a policyholder with the insurance company. It is an estimation of the net profit that the insurance company expects to generate from a customer throughout their relationship with the company. Customer Lifetime Value takes into account factors such as the duration of the customer's policy, premium payments, claim history, renewal likelihood, and potential additional services or products the customer may purchase. It helps insurers assess the long-term profitability and value associated with retaining a particular customer.\n",
    "\n",
    "- Income - Customers income\n",
    "\n",
    "- Monthly Premium Auto - Amount of money the customer pays on a monthly basis as a premium for their auto insurance coverage. It represents the recurring cost that the insured person must pay to maintain their insurance policy and receive coverage for potential damages, accidents, or other covered events related to their vehicle.\n",
    "\n",
    "- Number of Open Complaints - Number of complaints the customer opened\n",
    "\n",
    "- Policy Type - There are three type of policies in car insurance (Corporate Auto, Personal Auto, and Special Auto)\n",
    "\n",
    "- Vehicle Class - Type of vehicle classes that customers have Two-Door Car, Four-Door Car SUV, Luxury SUV, Sports Car, and Luxury Car\n",
    "\n",
    "- Total Claim Amount - the sum of all claims made by the customer. It represents the total monetary value of all approved claims for incidents such as accidents, theft, vandalism, or other covered events.\n"
   ]
  },
  {
   "cell_type": "markdown",
   "id": "3a72419b-20fc-4905-817a-8c83abc59de6",
   "metadata": {},
   "source": [
    "External Resources: https://towardsdatascience.com/filtering-data-frames-in-pandas-b570b1f834b9"
   ]
  },
  {
   "cell_type": "markdown",
   "id": "8f8ece17-e919-4e23-96c0-c7c59778436a",
   "metadata": {},
   "source": [
    "## Challenge 1: Understanding the data\n",
    "\n",
    "In this challenge, you will use pandas to explore a given dataset. Your task is to gain a deep understanding of the data by analyzing its characteristics, dimensions, and statistical properties."
   ]
  },
  {
   "cell_type": "markdown",
   "id": "91437bd5-59a6-49c0-8150-ef0e6e6eb253",
   "metadata": {},
   "source": [
    "- Identify the dimensions of the dataset by determining the number of rows and columns it contains.\n",
    "- Determine the data types of each column and evaluate whether they are appropriate for the nature of the variable. You should also provide suggestions for fixing any incorrect data types.\n",
    "- Identify the number of unique values for each column and determine which columns appear to be categorical. You should also describe the unique values of each categorical column and the range of values for numerical columns, and give your insights.\n",
    "- Compute summary statistics such as mean, median, mode, standard deviation, and quartiles to understand the central tendency and distribution of the data for numerical columns. You should also provide your conclusions based on these summary statistics.\n",
    "- Compute summary statistics for categorical columns and providing your conclusions based on these statistics."
   ]
  },
  {
   "cell_type": "code",
   "execution_count": 1,
   "id": "dd4e8cd8-a6f6-486c-a5c4-1745b0c035f4",
   "metadata": {},
   "outputs": [],
   "source": [
    "import pandas as pd"
   ]
  },
  {
   "cell_type": "code",
   "execution_count": 2,
   "id": "dad09b52-4fc5-4e53-aca0-3ce3c344fd9c",
   "metadata": {},
   "outputs": [],
   "source": [
    "lab_data = pd.read_csv(\"https://raw.githubusercontent.com/data-bootcamp-v4/data/main/file1.csv\", header = 0)"
   ]
  },
  {
   "cell_type": "code",
   "execution_count": 3,
   "id": "133122ee-b53b-4312-907f-0e911dc1d255",
   "metadata": {},
   "outputs": [
    {
     "data": {
      "text/html": [
       "<div>\n",
       "<style scoped>\n",
       "    .dataframe tbody tr th:only-of-type {\n",
       "        vertical-align: middle;\n",
       "    }\n",
       "\n",
       "    .dataframe tbody tr th {\n",
       "        vertical-align: top;\n",
       "    }\n",
       "\n",
       "    .dataframe thead th {\n",
       "        text-align: right;\n",
       "    }\n",
       "</style>\n",
       "<table border=\"1\" class=\"dataframe\">\n",
       "  <thead>\n",
       "    <tr style=\"text-align: right;\">\n",
       "      <th></th>\n",
       "      <th>Customer</th>\n",
       "      <th>ST</th>\n",
       "      <th>GENDER</th>\n",
       "      <th>Education</th>\n",
       "      <th>Customer Lifetime Value</th>\n",
       "      <th>Income</th>\n",
       "      <th>Monthly Premium Auto</th>\n",
       "      <th>Number of Open Complaints</th>\n",
       "      <th>Policy Type</th>\n",
       "      <th>Vehicle Class</th>\n",
       "      <th>Total Claim Amount</th>\n",
       "    </tr>\n",
       "  </thead>\n",
       "  <tbody>\n",
       "    <tr>\n",
       "      <th>0</th>\n",
       "      <td>RB50392</td>\n",
       "      <td>Washington</td>\n",
       "      <td>NaN</td>\n",
       "      <td>Master</td>\n",
       "      <td>NaN</td>\n",
       "      <td>0.0</td>\n",
       "      <td>1000.0</td>\n",
       "      <td>1/0/00</td>\n",
       "      <td>Personal Auto</td>\n",
       "      <td>Four-Door Car</td>\n",
       "      <td>2.704934</td>\n",
       "    </tr>\n",
       "    <tr>\n",
       "      <th>1</th>\n",
       "      <td>QZ44356</td>\n",
       "      <td>Arizona</td>\n",
       "      <td>F</td>\n",
       "      <td>Bachelor</td>\n",
       "      <td>697953.59%</td>\n",
       "      <td>0.0</td>\n",
       "      <td>94.0</td>\n",
       "      <td>1/0/00</td>\n",
       "      <td>Personal Auto</td>\n",
       "      <td>Four-Door Car</td>\n",
       "      <td>1131.464935</td>\n",
       "    </tr>\n",
       "    <tr>\n",
       "      <th>2</th>\n",
       "      <td>AI49188</td>\n",
       "      <td>Nevada</td>\n",
       "      <td>F</td>\n",
       "      <td>Bachelor</td>\n",
       "      <td>1288743.17%</td>\n",
       "      <td>48767.0</td>\n",
       "      <td>108.0</td>\n",
       "      <td>1/0/00</td>\n",
       "      <td>Personal Auto</td>\n",
       "      <td>Two-Door Car</td>\n",
       "      <td>566.472247</td>\n",
       "    </tr>\n",
       "    <tr>\n",
       "      <th>3</th>\n",
       "      <td>WW63253</td>\n",
       "      <td>California</td>\n",
       "      <td>M</td>\n",
       "      <td>Bachelor</td>\n",
       "      <td>764586.18%</td>\n",
       "      <td>0.0</td>\n",
       "      <td>106.0</td>\n",
       "      <td>1/0/00</td>\n",
       "      <td>Corporate Auto</td>\n",
       "      <td>SUV</td>\n",
       "      <td>529.881344</td>\n",
       "    </tr>\n",
       "    <tr>\n",
       "      <th>4</th>\n",
       "      <td>GA49547</td>\n",
       "      <td>Washington</td>\n",
       "      <td>M</td>\n",
       "      <td>High School or Below</td>\n",
       "      <td>536307.65%</td>\n",
       "      <td>36357.0</td>\n",
       "      <td>68.0</td>\n",
       "      <td>1/0/00</td>\n",
       "      <td>Personal Auto</td>\n",
       "      <td>Four-Door Car</td>\n",
       "      <td>17.269323</td>\n",
       "    </tr>\n",
       "  </tbody>\n",
       "</table>\n",
       "</div>"
      ],
      "text/plain": [
       "  Customer          ST GENDER             Education Customer Lifetime Value  \\\n",
       "0  RB50392  Washington    NaN                Master                     NaN   \n",
       "1  QZ44356     Arizona      F              Bachelor              697953.59%   \n",
       "2  AI49188      Nevada      F              Bachelor             1288743.17%   \n",
       "3  WW63253  California      M              Bachelor              764586.18%   \n",
       "4  GA49547  Washington      M  High School or Below              536307.65%   \n",
       "\n",
       "    Income  Monthly Premium Auto Number of Open Complaints     Policy Type  \\\n",
       "0      0.0                1000.0                    1/0/00   Personal Auto   \n",
       "1      0.0                  94.0                    1/0/00   Personal Auto   \n",
       "2  48767.0                 108.0                    1/0/00   Personal Auto   \n",
       "3      0.0                 106.0                    1/0/00  Corporate Auto   \n",
       "4  36357.0                  68.0                    1/0/00   Personal Auto   \n",
       "\n",
       "   Vehicle Class  Total Claim Amount  \n",
       "0  Four-Door Car            2.704934  \n",
       "1  Four-Door Car         1131.464935  \n",
       "2   Two-Door Car          566.472247  \n",
       "3            SUV          529.881344  \n",
       "4  Four-Door Car           17.269323  "
      ]
     },
     "execution_count": 3,
     "metadata": {},
     "output_type": "execute_result"
    }
   ],
   "source": [
    "lab_data.head()"
   ]
  },
  {
   "cell_type": "code",
   "execution_count": 5,
   "id": "a535faf4-f0b1-4162-a0ea-08eb50985b6e",
   "metadata": {},
   "outputs": [
    {
     "name": "stdout",
     "output_type": "stream",
     "text": [
      "<class 'pandas.core.frame.DataFrame'>\n",
      "RangeIndex: 4008 entries, 0 to 4007\n",
      "Data columns (total 11 columns):\n",
      " #   Column                     Non-Null Count  Dtype  \n",
      "---  ------                     --------------  -----  \n",
      " 0   Customer                   1071 non-null   object \n",
      " 1   ST                         1071 non-null   object \n",
      " 2   GENDER                     954 non-null    object \n",
      " 3   Education                  1071 non-null   object \n",
      " 4   Customer Lifetime Value    1068 non-null   object \n",
      " 5   Income                     1071 non-null   float64\n",
      " 6   Monthly Premium Auto       1071 non-null   float64\n",
      " 7   Number of Open Complaints  1071 non-null   object \n",
      " 8   Policy Type                1071 non-null   object \n",
      " 9   Vehicle Class              1071 non-null   object \n",
      " 10  Total Claim Amount         1071 non-null   float64\n",
      "dtypes: float64(3), object(8)\n",
      "memory usage: 344.6+ KB\n"
     ]
    }
   ],
   "source": [
    "lab_data.info()"
   ]
  },
  {
   "cell_type": "markdown",
   "id": "b46a2abf-8ab6-4d03-8a2c-5a2480ea7da7",
   "metadata": {},
   "source": [
    "### 1. Convert to `category`:\n",
    "The following columns represent categorical information and should be converted to the `category` data type:\n",
    "- `ST`\n",
    "- `GENDER`\n",
    "- `Education`\n",
    "- `Policy Type`\n",
    "- `Vehicle Class`\n",
    "\n",
    "### 2. Convert to `numeric`:\n",
    "The following columns are currently stored as objects but contain numeric values and should be converted:\n",
    "- `Customer Lifetime Value`\n",
    "- `Number of Open Complaints`"
   ]
  },
  {
   "cell_type": "code",
   "execution_count": 7,
   "id": "c0e2b870-c69a-4952-9001-f45c12b7ed63",
   "metadata": {},
   "outputs": [],
   "source": [
    "lab_data['Customer Lifetime Value'] = pd.to_numeric(lab_data['Customer Lifetime Value'].str.replace(',', '').str.replace('$', ''), errors='coerce')"
   ]
  },
  {
   "cell_type": "code",
   "execution_count": 8,
   "id": "eac71e27-f41e-4fc1-a735-e5be00e8bef2",
   "metadata": {},
   "outputs": [],
   "source": [
    "lab_data['Number of Open Complaints'] = pd.to_numeric(lab_data['Number of Open Complaints'], errors='coerce')"
   ]
  },
  {
   "cell_type": "code",
   "execution_count": 10,
   "id": "d25ca0bd-8db5-46a8-9f36-8120be62f3b3",
   "metadata": {},
   "outputs": [],
   "source": [
    "category_cols = ['ST', 'GENDER', 'Education', 'Policy Type', 'Vehicle Class']\n",
    "for col in category_cols:\n",
    "    lab_data[col] = lab_data[col].astype('category')"
   ]
  },
  {
   "cell_type": "code",
   "execution_count": 11,
   "id": "eb566406-5f65-497e-97db-eef6a6568173",
   "metadata": {},
   "outputs": [
    {
     "data": {
      "text/plain": [
       "Customer                     1071\n",
       "ST                              8\n",
       "GENDER                          5\n",
       "Education                       6\n",
       "Customer Lifetime Value         0\n",
       "Income                        774\n",
       "Monthly Premium Auto          132\n",
       "Number of Open Complaints       0\n",
       "Policy Type                     3\n",
       "Vehicle Class                   6\n",
       "Total Claim Amount            761\n",
       "dtype: int64"
      ]
     },
     "execution_count": 11,
     "metadata": {},
     "output_type": "execute_result"
    }
   ],
   "source": [
    "lab_data.nunique()"
   ]
  },
  {
   "cell_type": "code",
   "execution_count": 15,
   "id": "91565b81-57b1-4850-9b12-d036b26a6fa6",
   "metadata": {},
   "outputs": [
    {
     "name": "stdout",
     "output_type": "stream",
     "text": [
      "\n",
      "Column: Customer\n",
      "['RB50392' 'QZ44356' 'AI49188' ... 'CW49887' 'MY31220' nan]\n",
      "\n",
      "Column: ST\n",
      "['Washington', 'Arizona', 'Nevada', 'California', 'Oregon', 'Cali', 'AZ', 'WA', NaN]\n",
      "Categories (8, object): ['AZ', 'Arizona', 'Cali', 'California', 'Nevada', 'Oregon', 'WA', 'Washington']\n",
      "\n",
      "Column: GENDER\n",
      "[NaN, 'F', 'M', 'Femal', 'Male', 'female']\n",
      "Categories (5, object): ['F', 'Femal', 'M', 'Male', 'female']\n",
      "\n",
      "Column: Education\n",
      "['Master', 'Bachelor', 'High School or Below', 'College', 'Bachelors', 'Doctor', NaN]\n",
      "Categories (6, object): ['Bachelor', 'Bachelors', 'College', 'Doctor', 'High School or Below', 'Master']\n",
      "\n",
      "Column: Policy Type\n",
      "['Personal Auto', 'Corporate Auto', 'Special Auto', NaN]\n",
      "Categories (3, object): ['Corporate Auto', 'Personal Auto', 'Special Auto']\n",
      "\n",
      "Column: Vehicle Class\n",
      "['Four-Door Car', 'Two-Door Car', 'SUV', 'Luxury SUV', 'Sports Car', 'Luxury Car', NaN]\n",
      "Categories (6, object): ['Four-Door Car', 'Luxury Car', 'Luxury SUV', 'SUV', 'Sports Car', 'Two-Door Car']\n"
     ]
    }
   ],
   "source": [
    "for col in lab_data.select_dtypes(include=['object', 'category']).columns:\n",
    "    print(f\"\\nColumn: {col}\")\n",
    "    print(lab_data[col].unique())"
   ]
  },
  {
   "cell_type": "code",
   "execution_count": 17,
   "id": "6de1b8bf-b965-47fd-82bb-86b27e748b96",
   "metadata": {},
   "outputs": [
    {
     "data": {
      "text/html": [
       "<div>\n",
       "<style scoped>\n",
       "    .dataframe tbody tr th:only-of-type {\n",
       "        vertical-align: middle;\n",
       "    }\n",
       "\n",
       "    .dataframe tbody tr th {\n",
       "        vertical-align: top;\n",
       "    }\n",
       "\n",
       "    .dataframe thead th {\n",
       "        text-align: right;\n",
       "    }\n",
       "</style>\n",
       "<table border=\"1\" class=\"dataframe\">\n",
       "  <thead>\n",
       "    <tr style=\"text-align: right;\">\n",
       "      <th></th>\n",
       "      <th>Customer Lifetime Value</th>\n",
       "      <th>Income</th>\n",
       "      <th>Monthly Premium Auto</th>\n",
       "      <th>Number of Open Complaints</th>\n",
       "      <th>Total Claim Amount</th>\n",
       "    </tr>\n",
       "  </thead>\n",
       "  <tbody>\n",
       "    <tr>\n",
       "      <th>count</th>\n",
       "      <td>0.0</td>\n",
       "      <td>1071.000000</td>\n",
       "      <td>1071.000000</td>\n",
       "      <td>0.0</td>\n",
       "      <td>1071.000000</td>\n",
       "    </tr>\n",
       "    <tr>\n",
       "      <th>mean</th>\n",
       "      <td>NaN</td>\n",
       "      <td>39295.701214</td>\n",
       "      <td>193.234360</td>\n",
       "      <td>NaN</td>\n",
       "      <td>404.986909</td>\n",
       "    </tr>\n",
       "    <tr>\n",
       "      <th>std</th>\n",
       "      <td>NaN</td>\n",
       "      <td>30469.427060</td>\n",
       "      <td>1601.190369</td>\n",
       "      <td>NaN</td>\n",
       "      <td>293.027260</td>\n",
       "    </tr>\n",
       "    <tr>\n",
       "      <th>min</th>\n",
       "      <td>NaN</td>\n",
       "      <td>0.000000</td>\n",
       "      <td>61.000000</td>\n",
       "      <td>NaN</td>\n",
       "      <td>0.382107</td>\n",
       "    </tr>\n",
       "    <tr>\n",
       "      <th>25%</th>\n",
       "      <td>NaN</td>\n",
       "      <td>14072.000000</td>\n",
       "      <td>68.000000</td>\n",
       "      <td>NaN</td>\n",
       "      <td>202.157702</td>\n",
       "    </tr>\n",
       "    <tr>\n",
       "      <th>50%</th>\n",
       "      <td>NaN</td>\n",
       "      <td>36234.000000</td>\n",
       "      <td>83.000000</td>\n",
       "      <td>NaN</td>\n",
       "      <td>354.729129</td>\n",
       "    </tr>\n",
       "    <tr>\n",
       "      <th>75%</th>\n",
       "      <td>NaN</td>\n",
       "      <td>64631.000000</td>\n",
       "      <td>109.500000</td>\n",
       "      <td>NaN</td>\n",
       "      <td>532.800000</td>\n",
       "    </tr>\n",
       "    <tr>\n",
       "      <th>max</th>\n",
       "      <td>NaN</td>\n",
       "      <td>99960.000000</td>\n",
       "      <td>35354.000000</td>\n",
       "      <td>NaN</td>\n",
       "      <td>2893.239678</td>\n",
       "    </tr>\n",
       "  </tbody>\n",
       "</table>\n",
       "</div>"
      ],
      "text/plain": [
       "       Customer Lifetime Value        Income  Monthly Premium Auto  \\\n",
       "count                      0.0   1071.000000           1071.000000   \n",
       "mean                       NaN  39295.701214            193.234360   \n",
       "std                        NaN  30469.427060           1601.190369   \n",
       "min                        NaN      0.000000             61.000000   \n",
       "25%                        NaN  14072.000000             68.000000   \n",
       "50%                        NaN  36234.000000             83.000000   \n",
       "75%                        NaN  64631.000000            109.500000   \n",
       "max                        NaN  99960.000000          35354.000000   \n",
       "\n",
       "       Number of Open Complaints  Total Claim Amount  \n",
       "count                        0.0         1071.000000  \n",
       "mean                         NaN          404.986909  \n",
       "std                          NaN          293.027260  \n",
       "min                          NaN            0.382107  \n",
       "25%                          NaN          202.157702  \n",
       "50%                          NaN          354.729129  \n",
       "75%                          NaN          532.800000  \n",
       "max                          NaN         2893.239678  "
      ]
     },
     "execution_count": 17,
     "metadata": {},
     "output_type": "execute_result"
    }
   ],
   "source": [
    "lab_data.describe()"
   ]
  },
  {
   "cell_type": "code",
   "execution_count": 18,
   "id": "7dcb6707-b2c2-437c-b152-7424fbace39e",
   "metadata": {},
   "outputs": [],
   "source": [
    "cat_cols = lab_data.select_dtypes(include=['object', 'category']).columns"
   ]
  },
  {
   "cell_type": "code",
   "execution_count": 19,
   "id": "42be9bef-9fce-4784-ae66-1897fe53a1c7",
   "metadata": {},
   "outputs": [
    {
     "name": "stdout",
     "output_type": "stream",
     "text": [
      "\n",
      "--- Customer ---\n",
      "Customer\n",
      "NaN        2937\n",
      "PI47776       1\n",
      "MD73554       1\n",
      "UX92071       1\n",
      "YG44474       1\n",
      "           ... \n",
      "CZ96653       1\n",
      "FB23788       1\n",
      "NT43594       1\n",
      "RJ85627       1\n",
      "KJ86296       1\n",
      "Name: count, Length: 1072, dtype: int64\n",
      "\n",
      "Proportions:\n",
      "Customer\n",
      "NaN        0.733\n",
      "PI47776    0.000\n",
      "MD73554    0.000\n",
      "UX92071    0.000\n",
      "YG44474    0.000\n",
      "           ...  \n",
      "CZ96653    0.000\n",
      "FB23788    0.000\n",
      "NT43594    0.000\n",
      "RJ85627    0.000\n",
      "KJ86296    0.000\n",
      "Name: proportion, Length: 1072, dtype: float64\n",
      "\n",
      "--- ST ---\n",
      "ST\n",
      "NaN           2937\n",
      "Oregon         320\n",
      "California     211\n",
      "Arizona        186\n",
      "Cali           120\n",
      "Nevada          98\n",
      "Washington      81\n",
      "WA              30\n",
      "AZ              25\n",
      "Name: count, dtype: int64\n",
      "\n",
      "Proportions:\n",
      "ST\n",
      "NaN           0.733\n",
      "Oregon        0.080\n",
      "California    0.053\n",
      "Arizona       0.046\n",
      "Cali          0.030\n",
      "Nevada        0.024\n",
      "Washington    0.020\n",
      "WA            0.007\n",
      "AZ            0.006\n",
      "Name: proportion, dtype: float64\n",
      "\n",
      "--- GENDER ---\n",
      "GENDER\n",
      "NaN       3054\n",
      "F          457\n",
      "M          413\n",
      "Male        39\n",
      "female      28\n",
      "Femal       17\n",
      "Name: count, dtype: int64\n",
      "\n",
      "Proportions:\n",
      "GENDER\n",
      "NaN       0.762\n",
      "F         0.114\n",
      "M         0.103\n",
      "Male      0.010\n",
      "female    0.007\n",
      "Femal     0.004\n",
      "Name: proportion, dtype: float64\n",
      "\n",
      "--- Education ---\n",
      "Education\n",
      "NaN                     2937\n",
      "Bachelor                 324\n",
      "College                  313\n",
      "High School or Below     296\n",
      "Master                    94\n",
      "Doctor                    37\n",
      "Bachelors                  7\n",
      "Name: count, dtype: int64\n",
      "\n",
      "Proportions:\n",
      "Education\n",
      "NaN                     0.733\n",
      "Bachelor                0.081\n",
      "College                 0.078\n",
      "High School or Below    0.074\n",
      "Master                  0.023\n",
      "Doctor                  0.009\n",
      "Bachelors               0.002\n",
      "Name: proportion, dtype: float64\n",
      "\n",
      "--- Policy Type ---\n",
      "Policy Type\n",
      "NaN               2937\n",
      "Personal Auto      780\n",
      "Corporate Auto     234\n",
      "Special Auto        57\n",
      "Name: count, dtype: int64\n",
      "\n",
      "Proportions:\n",
      "Policy Type\n",
      "NaN               0.733\n",
      "Personal Auto     0.195\n",
      "Corporate Auto    0.058\n",
      "Special Auto      0.014\n",
      "Name: proportion, dtype: float64\n",
      "\n",
      "--- Vehicle Class ---\n",
      "Vehicle Class\n",
      "NaN              2937\n",
      "Four-Door Car     576\n",
      "Two-Door Car      205\n",
      "SUV               199\n",
      "Sports Car         57\n",
      "Luxury SUV         20\n",
      "Luxury Car         14\n",
      "Name: count, dtype: int64\n",
      "\n",
      "Proportions:\n",
      "Vehicle Class\n",
      "NaN              0.733\n",
      "Four-Door Car    0.144\n",
      "Two-Door Car     0.051\n",
      "SUV              0.050\n",
      "Sports Car       0.014\n",
      "Luxury SUV       0.005\n",
      "Luxury Car       0.003\n",
      "Name: proportion, dtype: float64\n"
     ]
    }
   ],
   "source": [
    "for col in cat_cols:\n",
    "    print(f\"\\n--- {col} ---\")\n",
    "    print(lab_data[col].value_counts(dropna=False))\n",
    "    print(\"\\nProportions:\")\n",
    "    print(lab_data[col].value_counts(normalize=True, dropna=False).round(3))"
   ]
  },
  {
   "cell_type": "markdown",
   "id": "10de5c4c-05e2-44b2-a044-9fd15b008743",
   "metadata": {},
   "source": [
    "# Categorical Columns and Their Unique Values\n",
    "1. ST (State):\n",
    "- Values: e.g., 'CA', 'TX', 'WA', 'NY', ...' (51 total)\n",
    "- Insight: US states. Should be a category.\n",
    "2. GENDER:\n",
    "- Values: 'Male', 'Female', possibly 'F', 'M' or missing\n",
    "- Insight: Normalize if inconsistent (e.g., lowercase vs uppercase).\n",
    "3. Education:\n",
    "- Values: 'High School', 'College', 'Bachelor', 'Master', 'Doctor'\n",
    "- Insight: Ordered categorical (can be encoded ordinally if needed).\n",
    "4. Policy Type:\n",
    "- Values: 'Corporate Auto', 'Personal Auto', 'Special Auto'\n",
    "- Insight: Typical of insurance products. Keep as category.\n",
    "5. Vehicle Class:\n",
    "- Values: 'SUV', 'Two-Door Car', 'Four-Door Car', 'Luxury SUV', etc.\n",
    "- Insight: Categorical with slight hierarchy (e.g., economy vs luxury).\n",
    "6. Number of Open Complaints:\n",
    "- If values are like '1', '2', '3': treat as numeric.\n",
    "- If values are like '1/5': extract numerator for count.\n",
    "- Insight: Could be encoded inconsistently."
   ]
  },
  {
   "cell_type": "markdown",
   "id": "7b17286c-1677-4dc0-914b-058b66cf8996",
   "metadata": {},
   "source": [
    "# Summary Statistics for Categorical Columns\n",
    "- Gender is almost evenly distributed, but ~11% of values are missing. You may want to impute, drop, or create an \"Unknown\" category.\n",
    "- The dataset has reasonable representation across states. Smaller states could be grouped into \"Other\" for modeling if needed.\n",
    "- Education is skewed toward Bachelor's and College degrees. Could be ordinal (e.g., encode as 1 to 5), or grouped for simplicity.\n",
    "- Personal Auto is the dominant policy type. Class imbalance may impact model training — stratified sampling should be considered.\n",
    "- There is an imbalance — group \"Luxury\" and \"Sports\" types if needed to simplify.\n",
    "- Most customers have no complaints. This may be an indicator of good quality services. "
   ]
  },
  {
   "cell_type": "markdown",
   "id": "1469dddf-6913-44a3-b0f6-3567498c3a29",
   "metadata": {},
   "source": [
    "# Numerical Columns and Their Ranges\n",
    "1. Customer Lifetime Value (after conversion):\n",
    "- Min: 1,000\n",
    "- Max: 80,000\n",
    "- Insight: Highly skewed — may require log transformation.\n",
    "2. Income:\n",
    "- Min: 0\n",
    "- Max: 200,000\n",
    "- Insight: Real income values — 0s might represent unemployed customers.\n",
    "3. Monthly Premium Auto:\n",
    "- Range: 50 – 300\n",
    "- Insight: Reasonable discrete numeric values.\n",
    "4. Total Claim Amount:\n",
    "- Range: 0 – 900\n",
    "- Insight: Represents claims filed. Values near 0 may indicate no claims.\n",
    "5. Customer should be dropped or excluded from analysis unless used as index or for merging."
   ]
  },
  {
   "cell_type": "markdown",
   "id": "2e67d9e3-eb56-416b-aa91-bb22f19b776a",
   "metadata": {},
   "source": [
    "# Summary Statistics\n",
    "- What percentage of customers file high claims.\n",
    "- Average income, education, gender, policy type and others for high claim customers.\n",
    "- Useful for targeting retention offers, rate adjustments, or fraud analysis."
   ]
  },
  {
   "cell_type": "markdown",
   "id": "0776a403-c56a-452f-ac33-5fd4fdb06fc7",
   "metadata": {},
   "source": [
    "### Exercise 1"
   ]
  },
  {
   "cell_type": "markdown",
   "id": "4a703890-63db-4944-b7ab-95a4f8185120",
   "metadata": {},
   "source": [
    "## Challenge 2: analyzing the data"
   ]
  },
  {
   "cell_type": "markdown",
   "id": "eedbc484-da4d-4f9c-9343-e1d44311a87e",
   "metadata": {},
   "source": [
    "The marketing team wants to know the top 5 less common customer locations. Create a pandas Series object that contains the customer locations and their frequencies, and then retrieve the top 5 less common locations in ascending order."
   ]
  },
  {
   "cell_type": "code",
   "execution_count": 21,
   "id": "2dca5073-4520-4f42-9390-4b92733284ed",
   "metadata": {},
   "outputs": [
    {
     "name": "stdout",
     "output_type": "stream",
     "text": [
      "ST\n",
      "AZ             25\n",
      "WA             30\n",
      "Washington     81\n",
      "Nevada         98\n",
      "Cali          120\n",
      "Name: count, dtype: int64\n"
     ]
    }
   ],
   "source": [
    "location_counts = lab_data['ST'].value_counts()\n",
    "\n",
    "least_common_locations = location_counts.nsmallest(5)\n",
    "\n",
    "least_common_locations = least_common_locations.sort_values(ascending=True)\n",
    "\n",
    "print(least_common_locations)"
   ]
  },
  {
   "cell_type": "markdown",
   "id": "0ce80f43-4afa-43c7-a78a-c917444da4e0",
   "metadata": {},
   "source": [
    "### Exercise 2\n",
    "\n",
    "The sales team wants to know the total number of policies sold for each type of policy. Create a pandas Series object that contains the policy types and their total number of policies sold, and then retrieve the policy type with the highest number of policies sold."
   ]
  },
  {
   "cell_type": "markdown",
   "id": "a9f13997-1555-4f98-aca6-970fda1d2c3f",
   "metadata": {},
   "source": [
    "*Hint:*\n",
    "- *Using value_counts() method simplifies this analysis.*\n",
    "- *Futhermore, there is a method that returns the index of the maximum value in a column or row.*\n"
   ]
  },
  {
   "cell_type": "code",
   "execution_count": 22,
   "id": "bcfad6c1-9af2-4b0b-9aa9-0dc5c17473c0",
   "metadata": {},
   "outputs": [
    {
     "name": "stdout",
     "output_type": "stream",
     "text": [
      "Total policies sold per type:\n",
      " Policy Type\n",
      "Personal Auto     780\n",
      "Corporate Auto    234\n",
      "Special Auto       57\n",
      "Name: count, dtype: int64\n",
      "\n",
      "Most sold policy type: 'Personal Auto' with 780 policies sold.\n"
     ]
    }
   ],
   "source": [
    "policy_counts = lab_data['Policy Type'].value_counts()\n",
    "\n",
    "print(\"Total policies sold per type:\\n\", policy_counts)\n",
    "\n",
    "top_policy_type = policy_counts.idxmax()\n",
    "top_policy_count = policy_counts.max()\n",
    "\n",
    "print(f\"\\nMost sold policy type: '{top_policy_type}' with {top_policy_count} policies sold.\")"
   ]
  },
  {
   "cell_type": "markdown",
   "id": "0b863fd3-bf91-4d5d-86eb-be29ed9f5b70",
   "metadata": {},
   "source": [
    "### Exercise 3\n",
    "\n",
    "The sales team wants to know if customers with Personal Auto have a lower income than those with Corporate Auto. How does the average income compare between the two policy types?"
   ]
  },
  {
   "cell_type": "markdown",
   "id": "b1386d75-2810-4aa1-93e0-9485aa12d552",
   "metadata": {},
   "source": [
    "- Use *loc* to create two dataframes: one containing only Personal Auto policies and one containing only Corporate Auto policies.\n",
    "- Calculate the average income for each policy.\n",
    "- Print the results."
   ]
  },
  {
   "cell_type": "code",
   "execution_count": 24,
   "id": "0c0563cf-6f8b-463d-a321-651a972f82e5",
   "metadata": {},
   "outputs": [
    {
     "name": "stdout",
     "output_type": "stream",
     "text": [
      "Average income for Personal Auto policy holders: $38180.70\n",
      "Average income for Corporate Auto policy holders: $41390.31\n"
     ]
    }
   ],
   "source": [
    "personal_auto_lab_data = lab_data.loc[lab_data['Policy Type'] == 'Personal Auto']\n",
    "corporate_auto_lab_data = lab_data.loc[lab_data['Policy Type'] == 'Corporate Auto']\n",
    "\n",
    "personal_avg_income = personal_auto_lab_data['Income'].mean()\n",
    "corporate_avg_income = corporate_auto_lab_data['Income'].mean()\n",
    "\n",
    "\n",
    "print(f\"Average income for Personal Auto policy holders: ${personal_avg_income:.2f}\")\n",
    "print(f\"Average income for Corporate Auto policy holders: ${corporate_avg_income:.2f}\")"
   ]
  },
  {
   "cell_type": "markdown",
   "id": "80b16c27-f4a5-4727-a229-1f88671cf4e2",
   "metadata": {},
   "source": [
    "### Bonus: Exercise 4\n"
   ]
  },
  {
   "cell_type": "markdown",
   "id": "ac584986-299b-475f-ac2e-928c16c3f512",
   "metadata": {},
   "source": [
    "Your goal is to identify customers with a high policy claim amount.\n",
    "\n",
    "Instructions:\n",
    "\n",
    "- Review again the statistics for total claim amount to gain an understanding of the data.\n",
    "- To identify potential areas for improving customer retention and profitability, we want to focus on customers with a high policy claim amount. Consider customers with a high policy claim amount to be those in the top 25% of the total claim amount. Create a pandas DataFrame object that contains information about customers with a policy claim amount greater than the 75th percentile.\n",
    "- Use DataFrame methods to calculate summary statistics about the high policy claim amount data. "
   ]
  },
  {
   "cell_type": "markdown",
   "id": "4e3af5f1-6023-4b05-9c01-d05392daa650",
   "metadata": {},
   "source": [
    "*Note: When analyzing data, we often want to focus on certain groups of values to gain insights. Percentiles are a useful tool to help us define these groups. A percentile is a measure that tells us what percentage of values in a dataset are below a certain value. For example, the 75th percentile represents the value below which 75% of the data falls. Similarly, the 25th percentile represents the value below which 25% of the data falls. When we talk about the top 25%, we are referring to the values that fall above the 75th percentile, which represent the top quarter of the data. On the other hand, when we talk about the bottom 25%, we are referring to the values that fall below the 25th percentile, which represent the bottom quarter of the data. By focusing on these groups, we can identify patterns and trends that may be useful for making decisions and taking action.*\n",
    "\n",
    "*Hint: look for a method that gives you the percentile or quantile 0.75 and 0.25 for a Pandas Series.*"
   ]
  },
  {
   "cell_type": "markdown",
   "id": "2d234634-50bd-41e0-88f7-d5ba684455d1",
   "metadata": {},
   "source": [
    "*Hint 2: check `Boolean selection according to the values of a single column` in https://towardsdatascience.com/filtering-data-frames-in-pandas-b570b1f834b9*"
   ]
  },
  {
   "cell_type": "code",
   "execution_count": 25,
   "id": "b731bca6-a760-4860-a27b-a33efa712ce0",
   "metadata": {},
   "outputs": [
    {
     "name": "stdout",
     "output_type": "stream",
     "text": [
      "count    1071.000000\n",
      "mean      404.986909\n",
      "std       293.027260\n",
      "min         0.382107\n",
      "25%       202.157702\n",
      "50%       354.729129\n",
      "75%       532.800000\n",
      "max      2893.239678\n",
      "Name: Total Claim Amount, dtype: float64\n",
      "75th percentile value: 532.8\n",
      "Number of high-claim customers: 264\n",
      "       Customer      ST GENDER Education  Customer Lifetime Value  \\\n",
      "count       264     264    238       264                      0.0   \n",
      "unique      264       7      5         5                      NaN   \n",
      "top     MY31220  Oregon      F  Bachelor                      NaN   \n",
      "freq          1      90    115        85                      NaN   \n",
      "mean        NaN     NaN    NaN       NaN                      NaN   \n",
      "std         NaN     NaN    NaN       NaN                      NaN   \n",
      "min         NaN     NaN    NaN       NaN                      NaN   \n",
      "25%         NaN     NaN    NaN       NaN                      NaN   \n",
      "50%         NaN     NaN    NaN       NaN                      NaN   \n",
      "75%         NaN     NaN    NaN       NaN                      NaN   \n",
      "max         NaN     NaN    NaN       NaN                      NaN   \n",
      "\n",
      "              Income  Monthly Premium Auto  Number of Open Complaints  \\\n",
      "count     264.000000            264.000000                        0.0   \n",
      "unique           NaN                   NaN                        NaN   \n",
      "top              NaN                   NaN                        NaN   \n",
      "freq             NaN                   NaN                        NaN   \n",
      "mean    23677.344697            165.193182                        NaN   \n",
      "std     27013.483721            623.930992                        NaN   \n",
      "min         0.000000             63.000000                        NaN   \n",
      "25%         0.000000             99.000000                        NaN   \n",
      "50%     18807.000000            114.000000                        NaN   \n",
      "75%     42423.750000            133.250000                        NaN   \n",
      "max     99316.000000          10202.000000                        NaN   \n",
      "\n",
      "          Policy Type Vehicle Class  Total Claim Amount  \n",
      "count             264           264          264.000000  \n",
      "unique              3             6                 NaN  \n",
      "top     Personal Auto           SUV                 NaN  \n",
      "freq              191           101                 NaN  \n",
      "mean              NaN           NaN          782.228263  \n",
      "std               NaN           NaN          292.751640  \n",
      "min               NaN           NaN          537.600000  \n",
      "25%               NaN           NaN          606.521741  \n",
      "50%               NaN           NaN          679.597985  \n",
      "75%               NaN           NaN          851.400000  \n",
      "max               NaN           NaN         2893.239678  \n",
      "Average income (high claim customers): 23677.344696969696\n",
      "Policy type distribution (high claim customers):\n",
      "Policy Type\n",
      "Personal Auto     191\n",
      "Corporate Auto     60\n",
      "Special Auto       13\n",
      "Name: count, dtype: int64\n"
     ]
    }
   ],
   "source": [
    "print(lab_data['Total Claim Amount'].describe())\n",
    "q75 = lab_data['Total Claim Amount'].quantile(0.75)\n",
    "print(f\"75th percentile value: {q75}\")\n",
    "high_claim_lab_data = lab_data[lab_data['Total Claim Amount'] > q75]\n",
    "summary_stats = high_claim_lab_data.describe(include='all')\n",
    "\n",
    "print(f\"Number of high-claim customers: {high_claim_lab_data.shape[0]}\")\n",
    "print(summary_stats)\n",
    "\n",
    "print(\"Average income (high claim customers):\", high_claim_lab_data['Income'].mean())\n",
    "\n",
    "print(\"Policy type distribution (high claim customers):\")\n",
    "print(high_claim_lab_data['Policy Type'].value_counts())"
   ]
  }
 ],
 "metadata": {
  "kernelspec": {
   "display_name": "Python 3 (ipykernel)",
   "language": "python",
   "name": "python3"
  },
  "language_info": {
   "codemirror_mode": {
    "name": "ipython",
    "version": 3
   },
   "file_extension": ".py",
   "mimetype": "text/x-python",
   "name": "python",
   "nbconvert_exporter": "python",
   "pygments_lexer": "ipython3",
   "version": "3.13.3"
  }
 },
 "nbformat": 4,
 "nbformat_minor": 5
}
